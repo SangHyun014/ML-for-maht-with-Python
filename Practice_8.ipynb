{
 "cells": [
  {
   "cell_type": "code",
   "execution_count": 1,
   "id": "1379400f",
   "metadata": {},
   "outputs": [],
   "source": [
    "import tensorflow as tf\n",
    "import numpy as np\n",
    "\n",
    "x_data = np.array([[0, 0], [1, 0], [1, 1], [0, 0], [0, 0], [0, 1]])\n",
    "y_data = np.array([[1, 0, 0], [0, 1, 0], [0, 0, 1], [1, 0, 0], [1, 0, 0], [0, 0, 1]])"
   ]
  },
  {
   "cell_type": "code",
   "execution_count": 3,
   "id": "627c007b",
   "metadata": {},
   "outputs": [
    {
     "name": "stdout",
     "output_type": "stream",
     "text": [
      "Epoch 1/10\n",
      "1/1 [==============================] - 1s 832ms/step - loss: nan - accuracy: 0.6667\n",
      "Epoch 2/10\n",
      "1/1 [==============================] - 0s 5ms/step - loss: nan - accuracy: 0.5000\n",
      "Epoch 3/10\n",
      "1/1 [==============================] - 0s 6ms/step - loss: nan - accuracy: 0.5000\n",
      "Epoch 4/10\n",
      "1/1 [==============================] - 0s 5ms/step - loss: nan - accuracy: 0.5000\n",
      "Epoch 5/10\n",
      "1/1 [==============================] - 0s 4ms/step - loss: nan - accuracy: 0.5000\n",
      "Epoch 6/10\n",
      "1/1 [==============================] - 0s 5ms/step - loss: nan - accuracy: 0.5000\n",
      "Epoch 7/10\n",
      "1/1 [==============================] - 0s 6ms/step - loss: nan - accuracy: 0.5000\n",
      "Epoch 8/10\n",
      "1/1 [==============================] - 0s 6ms/step - loss: nan - accuracy: 0.5000\n",
      "Epoch 9/10\n",
      "1/1 [==============================] - 0s 5ms/step - loss: nan - accuracy: 0.5000\n",
      "Epoch 10/10\n",
      "1/1 [==============================] - 0s 6ms/step - loss: nan - accuracy: 0.5000\n"
     ]
    },
    {
     "data": {
      "text/plain": [
       "<keras.callbacks.History at 0x253f82e7820>"
      ]
     },
     "execution_count": 3,
     "metadata": {},
     "output_type": "execute_result"
    }
   ],
   "source": [
    "model = tf.keras.Sequential([tf.keras.layers.Dense(5, activation='relu'),\n",
    "                            tf.keras.layers.Dense(3)])\n",
    "model.compile(optimizer='adam',\n",
    "             loss='categorical_crossentropy',\n",
    "             metrics=['accuracy'])\n",
    "model.fit(x_data, y_data, epochs=10)"
   ]
  },
  {
   "cell_type": "code",
   "execution_count": 5,
   "id": "a920edeb",
   "metadata": {},
   "outputs": [],
   "source": [
    "model = tf.keras.Sequential([tf.keras.layers.Dense(10, activation='relu'),\n",
    "                            tf.keras.layers.Dense(3)])"
   ]
  },
  {
   "cell_type": "markdown",
   "id": "57924bcb",
   "metadata": {},
   "source": [
    "MNIST 데이터셋 이용하기"
   ]
  },
  {
   "cell_type": "code",
   "execution_count": 6,
   "id": "79806e39",
   "metadata": {},
   "outputs": [
    {
     "name": "stdout",
     "output_type": "stream",
     "text": [
      "Downloading data from https://storage.googleapis.com/tensorflow/tf-keras-datasets/mnist.npz\n",
      "11490434/11490434 [==============================] - 2s 0us/step\n"
     ]
    }
   ],
   "source": [
    "mnist = tf.keras.datasets.mnist\n",
    "(x_train, y_train), (x_test, y_test) = mnist.load_data()\n",
    "x_train, y_train = x_train/255.0, y_train/255.0"
   ]
  },
  {
   "cell_type": "code",
   "execution_count": 8,
   "id": "27c3be78",
   "metadata": {},
   "outputs": [],
   "source": [
    "model = tf.keras.models.Sequential([tf.keras.layers.Flatten(input_shape=(28, 28)),\n",
    "                                   tf.keras.layers.Dense(128, activation='relu'),\n",
    "                                   tf.keras.layers.Dropout(0,2),\n",
    "                                   tf.keras.layers.Dense(10, activation='softmax')])"
   ]
  },
  {
   "cell_type": "code",
   "execution_count": 9,
   "id": "5505d652",
   "metadata": {},
   "outputs": [],
   "source": [
    "model.compile(optimizer='adam',\n",
    "             loss='sparse_categorical_crossentropy',\n",
    "             metrics=['accuracy'])"
   ]
  },
  {
   "cell_type": "code",
   "execution_count": 10,
   "id": "d86e5a73",
   "metadata": {},
   "outputs": [
    {
     "name": "stdout",
     "output_type": "stream",
     "text": [
      "Epoch 1/5\n",
      "1875/1875 [==============================] - 3s 1ms/step - loss: 0.0062 - accuracy: 0.0985\n",
      "Epoch 2/5\n",
      "1875/1875 [==============================] - 2s 1ms/step - loss: 8.9886e-07 - accuracy: 0.0987\n",
      "Epoch 3/5\n",
      "1875/1875 [==============================] - 2s 1ms/step - loss: 2.1128e-07 - accuracy: 0.0987\n",
      "Epoch 4/5\n",
      "1875/1875 [==============================] - 2s 1ms/step - loss: 6.9445e-08 - accuracy: 0.0987\n",
      "Epoch 5/5\n",
      "1875/1875 [==============================] - 2s 1ms/step - loss: 2.5532e-08 - accuracy: 0.0987\n",
      "313/313 - 0s - loss: 9397.5732 - accuracy: 0.0980 - 428ms/epoch - 1ms/step\n"
     ]
    },
    {
     "data": {
      "text/plain": [
       "[9397.5732421875, 0.09799999743700027]"
      ]
     },
     "execution_count": 10,
     "metadata": {},
     "output_type": "execute_result"
    }
   ],
   "source": [
    "model.fit(x_train, y_train, epochs=5)\n",
    "model.evaluate(x_test, y_test, verbose=2)"
   ]
  },
  {
   "cell_type": "markdown",
   "id": "c650f3d2",
   "metadata": {},
   "source": [
    "# 파이썬 실습"
   ]
  },
  {
   "cell_type": "markdown",
   "id": "f499eb9b",
   "metadata": {},
   "source": [
    "데이터 준비하기"
   ]
  },
  {
   "cell_type": "code",
   "execution_count": 12,
   "id": "42ff5c5a",
   "metadata": {},
   "outputs": [],
   "source": [
    "#MNIST 데이터 이용\n",
    "import tensorflow as tf\n",
    "mnist = tf.keras.datasets.mnist\n",
    "\n",
    "from tensorflow.keras import datasets, layers, models\n",
    "(train_images, train_labels), (test_images, test_labels) = mnist.load_data()\n",
    "\n",
    "train_images = train_images.reshape((60000, 28, 28, 1))\n",
    "test_images = test_images.reshape((10000, 28, 28, 1))"
   ]
  },
  {
   "cell_type": "code",
   "execution_count": 14,
   "id": "daa3b4f5",
   "metadata": {},
   "outputs": [],
   "source": [
    "# 픽셀 값을 0~1 사이로 정규화\n",
    "train_images, test_images = train_images / 255.0, test_images / 255.0"
   ]
  },
  {
   "cell_type": "markdown",
   "id": "0a9d3e92",
   "metadata": {},
   "source": [
    "CNN 구성하기"
   ]
  },
  {
   "cell_type": "code",
   "execution_count": 15,
   "id": "b1e880c0",
   "metadata": {},
   "outputs": [],
   "source": [
    "model = models.Sequential()\n",
    "model.add(layers.Conv2D(32, (3, 3), activation = 'relu', input_shape=(28, 28, 1)))\n",
    "model.add(layers.MaxPooling2D((2, 2)))\n",
    "model.add(layers.Conv2D(64, (3, 3), activation = 'relu'))\n",
    "model.add(layers.MaxPooling2D((2, 2)))\n",
    "model.add(layers.Conv2D(64, (3, 3), activation = 'relu'))"
   ]
  },
  {
   "cell_type": "markdown",
   "id": "ab197b83",
   "metadata": {},
   "source": [
    "결과층까지 모형 구성하기(최종 출력값에서 출력 64개를 입력 값으로 받아서 0~9 레이블인 10개의 출력하기"
   ]
  },
  {
   "cell_type": "code",
   "execution_count": 17,
   "id": "bd6ee865",
   "metadata": {},
   "outputs": [
    {
     "name": "stdout",
     "output_type": "stream",
     "text": [
      "Model: \"sequential_3\"\n",
      "_________________________________________________________________\n",
      " Layer (type)                Output Shape              Param #   \n",
      "=================================================================\n",
      " conv2d (Conv2D)             (None, 26, 26, 32)        320       \n",
      "                                                                 \n",
      " max_pooling2d (MaxPooling2D  (None, 13, 13, 32)       0         \n",
      " )                                                               \n",
      "                                                                 \n",
      " conv2d_1 (Conv2D)           (None, 11, 11, 64)        18496     \n",
      "                                                                 \n",
      " max_pooling2d_1 (MaxPooling  (None, 5, 5, 64)         0         \n",
      " 2D)                                                             \n",
      "                                                                 \n",
      " conv2d_2 (Conv2D)           (None, 3, 3, 64)          36928     \n",
      "                                                                 \n",
      " flatten_1 (Flatten)         (None, 576)               0         \n",
      "                                                                 \n",
      " dense_7 (Dense)             (None, 64)                36928     \n",
      "                                                                 \n",
      " dense_8 (Dense)             (None, 10)                650       \n",
      "                                                                 \n",
      "=================================================================\n",
      "Total params: 93,322\n",
      "Trainable params: 93,322\n",
      "Non-trainable params: 0\n",
      "_________________________________________________________________\n"
     ]
    }
   ],
   "source": [
    "model.add(layers.Flatten())\n",
    "model.add(layers.Dense(64, activation='relu'))\n",
    "model.add(layers.Dense(10, activation='softmax'))\n",
    "model.summary()"
   ]
  },
  {
   "cell_type": "markdown",
   "id": "c63d23ed",
   "metadata": {},
   "source": [
    "epoch 5로 지정하여 학습"
   ]
  },
  {
   "cell_type": "code",
   "execution_count": 18,
   "id": "b73c36d5",
   "metadata": {},
   "outputs": [
    {
     "name": "stdout",
     "output_type": "stream",
     "text": [
      "Epoch 1/5\n",
      "1875/1875 [==============================] - 18s 9ms/step - loss: 0.1514 - accuracy: 0.9547\n",
      "Epoch 2/5\n",
      "1875/1875 [==============================] - 17s 9ms/step - loss: 0.0473 - accuracy: 0.9851\n",
      "Epoch 3/5\n",
      "1875/1875 [==============================] - 17s 9ms/step - loss: 0.0330 - accuracy: 0.9897\n",
      "Epoch 4/5\n",
      "1875/1875 [==============================] - 17s 9ms/step - loss: 0.0255 - accuracy: 0.9920\n",
      "Epoch 5/5\n",
      "1875/1875 [==============================] - 18s 10ms/step - loss: 0.0204 - accuracy: 0.9933\n"
     ]
    },
    {
     "data": {
      "text/plain": [
       "<keras.callbacks.History at 0x253fa776500>"
      ]
     },
     "execution_count": 18,
     "metadata": {},
     "output_type": "execute_result"
    }
   ],
   "source": [
    "model.compile(optimizer = 'adam',\n",
    "             loss = 'sparse_categorical_crossentropy',\n",
    "             metrics = ['accuracy'])\n",
    "model.fit(train_images, train_labels, epochs = 5)"
   ]
  },
  {
   "cell_type": "markdown",
   "id": "5bf81c1b",
   "metadata": {},
   "source": [
    "평가하기"
   ]
  },
  {
   "cell_type": "code",
   "execution_count": 19,
   "id": "2cbd4f62",
   "metadata": {},
   "outputs": [
    {
     "name": "stdout",
     "output_type": "stream",
     "text": [
      "313/313 - 1s - loss: 0.0350 - accuracy: 0.9893 - 1s/epoch - 3ms/step\n",
      "0.03499035909771919 0.989300012588501\n"
     ]
    }
   ],
   "source": [
    "test_loss, test_acc = model.evaluate(test_images, test_labels, verbose=2)\n",
    "print(test_loss, test_acc)"
   ]
  }
 ],
 "metadata": {
  "kernelspec": {
   "display_name": "[kaggle]",
   "language": "python",
   "name": "kaggle"
  },
  "language_info": {
   "codemirror_mode": {
    "name": "ipython",
    "version": 3
   },
   "file_extension": ".py",
   "mimetype": "text/x-python",
   "name": "python",
   "nbconvert_exporter": "python",
   "pygments_lexer": "ipython3",
   "version": "3.10.9"
  }
 },
 "nbformat": 4,
 "nbformat_minor": 5
}
