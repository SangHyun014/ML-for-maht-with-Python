{
 "cells": [
  {
   "cell_type": "markdown",
   "id": "ec990810",
   "metadata": {},
   "source": [
    "# 확률 분포와 통계적 추론"
   ]
  },
  {
   "cell_type": "markdown",
   "id": "0272ac10",
   "metadata": {},
   "source": [
    "numpy를 이용하여 통계량 계산하기"
   ]
  },
  {
   "cell_type": "code",
   "execution_count": 1,
   "id": "0e902e89",
   "metadata": {},
   "outputs": [
    {
     "data": {
      "text/plain": [
       "4.5"
      ]
     },
     "execution_count": 1,
     "metadata": {},
     "output_type": "execute_result"
    }
   ],
   "source": [
    "import numpy as np\n",
    "\n",
    "x = np.arange(10.0)\n",
    "x.mean()"
   ]
  },
  {
   "cell_type": "code",
   "execution_count": 3,
   "id": "a0ab82d4",
   "metadata": {},
   "outputs": [
    {
     "name": "stdout",
     "output_type": "stream",
     "text": [
      "[[ 0.  1.  2.  3.  4.]\n",
      " [ 5.  6.  7.  8.  9.]\n",
      " [10. 11. 12. 13. 14.]\n",
      " [15. 16. 17. 18. 19.]]\n"
     ]
    },
    {
     "data": {
      "text/plain": [
       "array([ 7.5,  8.5,  9.5, 10.5, 11.5])"
      ]
     },
     "execution_count": 3,
     "metadata": {},
     "output_type": "execute_result"
    }
   ],
   "source": [
    "numbers = np.arange(20.0)\n",
    "x = np.reshape(numbers, (4,5)) #0~19까지를 4x5행렬로 변경\n",
    "print(x)\n",
    "np.mean(x, 0)"
   ]
  },
  {
   "cell_type": "code",
   "execution_count": 5,
   "id": "013de824",
   "metadata": {},
   "outputs": [
    {
     "data": {
      "text/plain": [
       "5.766281297335398"
      ]
     },
     "execution_count": 5,
     "metadata": {},
     "output_type": "execute_result"
    }
   ],
   "source": [
    "np.std(x)   #행,열 고려없이 x에 대한 표준편차"
   ]
  },
  {
   "cell_type": "code",
   "execution_count": 6,
   "id": "ee778c7e",
   "metadata": {},
   "outputs": [
    {
     "data": {
      "text/plain": [
       "33.25"
      ]
     },
     "execution_count": 6,
     "metadata": {},
     "output_type": "execute_result"
    }
   ],
   "source": [
    "np.var(x) "
   ]
  },
  {
   "cell_type": "code",
   "execution_count": 9,
   "id": "4cd0cbe5",
   "metadata": {},
   "outputs": [
    {
     "name": "stdout",
     "output_type": "stream",
     "text": [
      "[[-0.13267468  2.23926114  0.81058795  1.00810747]\n",
      " [ 0.14794285  0.18625896 -0.51044466  0.34948886]\n",
      " [-1.47011438  0.02662314  1.00199006  1.28026546]]\n"
     ]
    }
   ],
   "source": [
    "x = np.random.randn(3,4)  #3X4 인 행렬\n",
    "print(x)"
   ]
  },
  {
   "cell_type": "code",
   "execution_count": 11,
   "id": "26167061",
   "metadata": {},
   "outputs": [
    {
     "data": {
      "text/plain": [
       "array([[ 1.        ,  0.1495637 ,  0.42220312],\n",
       "       [ 0.1495637 ,  1.        , -0.22131291],\n",
       "       [ 0.42220312, -0.22131291,  1.        ]])"
      ]
     },
     "execution_count": 11,
     "metadata": {},
     "output_type": "execute_result"
    }
   ],
   "source": [
    "np.corrcoef(x) #피어슨 상관고나계 구하기"
   ]
  },
  {
   "cell_type": "code",
   "execution_count": 12,
   "id": "7d9b7fd0",
   "metadata": {},
   "outputs": [
    {
     "data": {
      "text/plain": [
       "array([[1.       , 0.1495637],\n",
       "       [0.1495637, 1.       ]])"
      ]
     },
     "execution_count": 12,
     "metadata": {},
     "output_type": "execute_result"
    }
   ],
   "source": [
    "np.corrcoef(x[0],x[1])"
   ]
  },
  {
   "cell_type": "code",
   "execution_count": 14,
   "id": "9d1cf167",
   "metadata": {},
   "outputs": [
    {
     "data": {
      "text/plain": [
       "array([[ 0.74760005,  0.44024356, -0.5123166 , -0.34247744],\n",
       "       [ 0.44024356,  1.52267807,  0.34119009,  0.10022884],\n",
       "       [-0.5123166 ,  0.34119009,  0.67820345,  0.38831452],\n",
       "       [-0.34247744,  0.10022884,  0.38831452,  0.22903225]])"
      ]
     },
     "execution_count": 14,
     "metadata": {},
     "output_type": "execute_result"
    }
   ],
   "source": [
    "np.cov(x, rowvar=False) #공분산 구하기"
   ]
  },
  {
   "cell_type": "code",
   "execution_count": 15,
   "id": "ecea9064",
   "metadata": {},
   "outputs": [
    {
     "data": {
      "text/plain": [
       "array([[ 0.95108902,  0.05533545,  0.51147094],\n",
       "       [ 0.05533545,  0.14392405, -0.10429473],\n",
       "       [ 0.51147094, -0.10429473,  1.54304247]])"
      ]
     },
     "execution_count": 15,
     "metadata": {},
     "output_type": "execute_result"
    }
   ],
   "source": [
    "np.cov(x, rowvar=True) #각 행 사이의 공분산 구하기"
   ]
  },
  {
   "cell_type": "markdown",
   "id": "60a64423",
   "metadata": {},
   "source": [
    "다양한 확률 분포 사용하기"
   ]
  },
  {
   "cell_type": "code",
   "execution_count": 17,
   "id": "cb663cb2",
   "metadata": {},
   "outputs": [
    {
     "data": {
      "text/plain": [
       "array([5, 6, 5, 5, 5, 6, 5, 7, 8, 5], dtype=int64)"
      ]
     },
     "execution_count": 17,
     "metadata": {},
     "output_type": "execute_result"
    }
   ],
   "source": [
    "import numpy as np\n",
    "from scipy import stats\n",
    "np.random.seed(0)\n",
    "stats.binom(10, 0.5).rvs(10) #n=10, p=0.5인 이항분포에서 rvs 함수로 표본 10개 추출"
   ]
  },
  {
   "cell_type": "code",
   "execution_count": 18,
   "id": "6f5dfaad",
   "metadata": {},
   "outputs": [
    {
     "data": {
      "text/plain": [
       "array([ 0.14404357,  1.45427351,  0.76103773,  0.12167502,  0.44386323,\n",
       "        0.33367433,  1.49407907, -0.20515826,  0.3130677 , -0.85409574])"
      ]
     },
     "execution_count": 18,
     "metadata": {},
     "output_type": "execute_result"
    }
   ],
   "source": [
    "stats.norm().rvs(10)  #표준정규분포에서 표본 10개 추출"
   ]
  },
  {
   "cell_type": "code",
   "execution_count": 21,
   "id": "f5d2f1ba",
   "metadata": {},
   "outputs": [
    {
     "data": {
      "text/plain": [
       "array([0.21038256, 0.1289263 , 0.31542835, 0.36371077, 0.57019677,\n",
       "       0.43860151, 0.98837384, 0.10204481, 0.20887676, 0.16130952])"
      ]
     },
     "execution_count": 21,
     "metadata": {},
     "output_type": "execute_result"
    }
   ],
   "source": [
    "stats.uniform().rvs(10)  #0~1 사이에 정의된 균일 분포에서 표본 10개 추출"
   ]
  },
  {
   "cell_type": "code",
   "execution_count": 22,
   "id": "20b013a8",
   "metadata": {},
   "outputs": [
    {
     "data": {
      "text/plain": [
       "array([2.11748545, 0.58416107, 1.25588316, 0.56055403, 0.34625491,\n",
       "       0.23391082, 2.13614438, 0.29742454, 0.43776121, 0.92002793])"
      ]
     },
     "execution_count": 22,
     "metadata": {},
     "output_type": "execute_result"
    }
   ],
   "source": [
    "stats.chi2(df=2).rvs(10) #자유도가 2인 카이제곱 분포에서 표본 10개 추출"
   ]
  },
  {
   "cell_type": "markdown",
   "id": "8ccefe0c",
   "metadata": {},
   "source": [
    "정규성 검정하기"
   ]
  },
  {
   "cell_type": "code",
   "execution_count": 23,
   "id": "e9f0e1f8",
   "metadata": {},
   "outputs": [
    {
     "name": "stdout",
     "output_type": "stream",
     "text": [
      "0.14773840578736494\n"
     ]
    }
   ],
   "source": [
    "x = stats.uniform().rvs(20)  #균일 분포에서 표본 20개 추출\n",
    "k2, p = stats.normaltest(x)  #x에 대한 정규성 검정\n",
    "print(p)  #정규성 검정의 p값을 출력"
   ]
  },
  {
   "cell_type": "markdown",
   "id": "79c7efd8",
   "metadata": {},
   "source": [
    "카이제곱 검정하기"
   ]
  },
  {
   "cell_type": "code",
   "execution_count": 26,
   "id": "6e13a10e",
   "metadata": {},
   "outputs": [
    {
     "data": {
      "text/plain": [
       "Power_divergenceResult(statistic=17.799999999999997, pvalue=0.003207792034605282)"
      ]
     },
     "execution_count": 26,
     "metadata": {},
     "output_type": "execute_result"
    }
   ],
   "source": [
    "import scipy as sp\n",
    "n = np.array([1,2,4,1,2,10]) #주사위를 20번 던졌을 때 1~6사이의 눈이 나오는 빈도\n",
    "sp.stats.chisquare(n)  #귀무 가설:각 눈의 빈도는 동일한 확률로 나온다\n",
    "\n",
    "#유의수준>>p-value 이므로 귀무 가설 기각"
   ]
  },
  {
   "cell_type": "markdown",
   "id": "3d77a0e2",
   "metadata": {},
   "source": [
    "t-검정"
   ]
  },
  {
   "cell_type": "code",
   "execution_count": 29,
   "id": "72385d65",
   "metadata": {},
   "outputs": [
    {
     "data": {
      "text/plain": [
       "Ttest_indResult(statistic=-1.6868710732328158, pvalue=0.10888146383913824)"
      ]
     },
     "execution_count": 29,
     "metadata": {},
     "output_type": "execute_result"
    }
   ],
   "source": [
    "np.random.seed(0)\n",
    "x1 = stats.norm(0, 1).rvs(10) #평균이 0인 정규 분포에서 표본 10개 추출\n",
    "x2 = stats.norm(1, 1).rvs(10) #평균이 1인 정규 분포에서 표본 10개 추출\n",
    "np.mean(x1)\n",
    "np.mean(x2)\n",
    "stats.ttest_ind(x1, x2)  #두 집단의 모평균이 같다는 귀무 가설에 대한 t-검정"
   ]
  },
  {
   "cell_type": "markdown",
   "id": "a8bd8da9",
   "metadata": {},
   "source": [
    "쌍체 t 검정하기"
   ]
  },
  {
   "cell_type": "code",
   "execution_count": 30,
   "id": "6f06971f",
   "metadata": {},
   "outputs": [],
   "source": [
    "before = [68, 56, 57, 54, 64, 48, 68, 56, 61, 58, 67, 49, 58, 58, 65, 54, 59, 55, 60, 62]\n",
    "after  = [65, 57, 57, 54, 64, 47, 67, 54, 60, 58, 65, 48, 57, 56, 64, 53, 57, 55, 61, 63]\n",
    "#귀무 가설 : 처치 전후로 통증의 차이가 없다\n",
    "#대립 가설 : 처치 전후로 통증의 차이가 있다"
   ]
  },
  {
   "cell_type": "code",
   "execution_count": 31,
   "id": "3b68e194",
   "metadata": {},
   "outputs": [
    {
     "data": {
      "text/plain": [
       "TtestResult(statistic=3.0, pvalue=0.007361724183868639, df=19)"
      ]
     },
     "execution_count": 31,
     "metadata": {},
     "output_type": "execute_result"
    }
   ],
   "source": [
    "stats.ttest_rel(before, after)\n",
    "# 유의 수준이 5%라면 현재 p값이 유의수준보다 작으므로 귀무가설 기각"
   ]
  },
  {
   "cell_type": "code",
   "execution_count": 32,
   "id": "9df3b95c",
   "metadata": {},
   "outputs": [],
   "source": [
    "before = [2, 3, 2, 3, 2]\n",
    "after  = [9, 8, 9, 7, 6]\n",
    "# 귀무 가설 : 광고 전후로 차이가 없다\n",
    "# 대립 가설 : 광고 전후로 차이가 있다"
   ]
  },
  {
   "cell_type": "code",
   "execution_count": 34,
   "id": "65512176",
   "metadata": {},
   "outputs": [
    {
     "data": {
      "text/plain": [
       "TtestResult(statistic=-7.961865632364446, pvalue=0.001348170975769803, df=4)"
      ]
     },
     "execution_count": 34,
     "metadata": {},
     "output_type": "execute_result"
    }
   ],
   "source": [
    "stats.ttest_rel(before, after)\n",
    "# 유의 수준이 5%라면 현재 p값이 유의 수준보다 작으므로 귀무가설 기각"
   ]
  },
  {
   "cell_type": "code",
   "execution_count": null,
   "id": "503660bf",
   "metadata": {},
   "outputs": [],
   "source": []
  }
 ],
 "metadata": {
  "kernelspec": {
   "display_name": "[kaggle]",
   "language": "python",
   "name": "kaggle"
  },
  "language_info": {
   "codemirror_mode": {
    "name": "ipython",
    "version": 3
   },
   "file_extension": ".py",
   "mimetype": "text/x-python",
   "name": "python",
   "nbconvert_exporter": "python",
   "pygments_lexer": "ipython3",
   "version": "3.10.9"
  }
 },
 "nbformat": 4,
 "nbformat_minor": 5
}
