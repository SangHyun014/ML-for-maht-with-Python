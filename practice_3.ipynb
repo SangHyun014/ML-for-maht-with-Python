{
 "cells": [
  {
   "cell_type": "markdown",
   "id": "08619e9e",
   "metadata": {},
   "source": [
    "# 미분과 적분의 이해와 응용"
   ]
  },
  {
   "cell_type": "markdown",
   "id": "d043ab80",
   "metadata": {},
   "source": [
    "분석모형 응용 - 경사하강법 & 뉴턴랩슨 메서드"
   ]
  },
  {
   "cell_type": "code",
   "execution_count": 1,
   "id": "40a50c0e",
   "metadata": {},
   "outputs": [],
   "source": [
    "from scipy import optimize"
   ]
  },
  {
   "cell_type": "code",
   "execution_count": 2,
   "id": "04c96936",
   "metadata": {},
   "outputs": [],
   "source": [
    "def f(x):\n",
    "    return (x**3 - 1)"
   ]
  },
  {
   "cell_type": "code",
   "execution_count": 3,
   "id": "74775a08",
   "metadata": {},
   "outputs": [
    {
     "name": "stdout",
     "output_type": "stream",
     "text": [
      "1.0000000000000016\n"
     ]
    }
   ],
   "source": [
    "#x축의 1.5지점에서 시작하여 뉴턴랩슨 메서드로 x의 해를 구함\n",
    "root = optimize.newton(f, 1.5)\n",
    "print(root)"
   ]
  },
  {
   "cell_type": "code",
   "execution_count": 5,
   "id": "835ee6f5",
   "metadata": {},
   "outputs": [
    {
     "name": "stdout",
     "output_type": "stream",
     "text": [
      "1.0\n"
     ]
    }
   ],
   "source": [
    "#f의 미분된 함수를 표시(lambda에 미분식 대입)\n",
    "root = optimize.newton(f, 1.5, fprime = lambda x:3*x**2)\n",
    "print(root)"
   ]
  },
  {
   "cell_type": "code",
   "execution_count": 7,
   "id": "d9fb3fd7",
   "metadata": {},
   "outputs": [
    {
     "name": "stdout",
     "output_type": "stream",
     "text": [
      "1.0000000000000016\n"
     ]
    }
   ],
   "source": [
    "#f에 미분된 함수를 표시(fprime에 이계도함수 사용)\n",
    "root = optimize.newton(f, 1.5, fprime2 = lambda x:6*x)\n",
    "print(root)"
   ]
  },
  {
   "cell_type": "code",
   "execution_count": 10,
   "id": "662f9302",
   "metadata": {},
   "outputs": [
    {
     "name": "stdout",
     "output_type": "stream",
     "text": [
      "국소 최솟값은? -4.9999518490318176\n"
     ]
    }
   ],
   "source": [
    "cur_x = 3\n",
    "rate = 0.01\n",
    "precision = 0.000001    #반복 계산에 사용할 기준(tolerance rate)\n",
    "previous_step_size = 1\n",
    "max_iters = 10000\n",
    "iters = 0\n",
    "df = lambda x: 2*(x+5)\n",
    "\n",
    "while (previous_step_size > precision) and (iters < max_iters):\n",
    "    prev_x = cur_x\n",
    "    cur_x = cur_x - rate*df(prev_x)\n",
    "    previous_step_size = abs(cur_x - prev_x)\n",
    "    iters = iters+1\n",
    "\n",
    "print(\"국소 최솟값은?\", cur_x)"
   ]
  },
  {
   "cell_type": "markdown",
   "id": "640cf52f",
   "metadata": {},
   "source": [
    "파이썬 실습"
   ]
  },
  {
   "cell_type": "code",
   "execution_count": 12,
   "id": "ed82442c",
   "metadata": {},
   "outputs": [
    {
     "data": {
      "text/latex": [
       "$\\displaystyle 6.0 x$"
      ],
      "text/plain": [
       "6.0*x"
      ]
     },
     "execution_count": 12,
     "metadata": {},
     "output_type": "execute_result"
    }
   ],
   "source": [
    "#3x^2 미분하기\n",
    "import sympy as sp\n",
    "\n",
    "x = sp.Symbol('x')\n",
    "sp.diff(3.0*x**2 + 1, x)"
   ]
  },
  {
   "cell_type": "code",
   "execution_count": 13,
   "id": "f7216512",
   "metadata": {},
   "outputs": [
    {
     "name": "stdout",
     "output_type": "stream",
     "text": [
      "[-3.]\n"
     ]
    }
   ],
   "source": [
    "#미분을 활용하여 미분한 x+3 함수가 0이 되는 해 찾기\n",
    "from scipy.optimize import fsolve\n",
    "import numpy as np\n",
    "\n",
    "line = lambda x: x+3\n",
    "solution = fsolve(line, -2)\n",
    "print(solution)"
   ]
  },
  {
   "cell_type": "code",
   "execution_count": 14,
   "id": "6be638a5",
   "metadata": {},
   "outputs": [
    {
     "name": "stdout",
     "output_type": "stream",
     "text": [
      "(1.296467785724373, 1.3977971853986262e-09)\n"
     ]
    }
   ],
   "source": [
    "#x^2을 적분하고 0~3 사이의 적분 값 찾기\n",
    "import numpy as np\n",
    "from scipy.integrate import quad\n",
    "\n",
    "func = lambda x: np.cos(np.exp(x))**2\n",
    "\n",
    "solution = quad(func, 0, 3)\n",
    "print(solution)   #첫번째 값은 적분, 두번째 값은 오차"
   ]
  },
  {
   "cell_type": "code",
   "execution_count": 16,
   "id": "beb47857",
   "metadata": {},
   "outputs": [
    {
     "name": "stdout",
     "output_type": "stream",
     "text": [
      "(6.327804580933236, 8.173924556957243e-10)\n"
     ]
    }
   ],
   "source": [
    "#sin(x)+cos(x^2)+1 함수를 적분하고 구간 0~5의 적분 값 찾기\n",
    "x = np.sort(np.random.randn(150)*4+4).clip(0,5) #0~5사이의 랜덤한 값 생성\n",
    "func = lambda x: np.sin(x)+np.cos(x**2)+1\n",
    "y = func(x)\n",
    "\n",
    "fsolution = quad(func, 0, 5)\n",
    "print(fsolution)"
   ]
  }
 ],
 "metadata": {
  "kernelspec": {
   "display_name": "[kaggle]",
   "language": "python",
   "name": "kaggle"
  },
  "language_info": {
   "codemirror_mode": {
    "name": "ipython",
    "version": 3
   },
   "file_extension": ".py",
   "mimetype": "text/x-python",
   "name": "python",
   "nbconvert_exporter": "python",
   "pygments_lexer": "ipython3",
   "version": "3.10.9"
  }
 },
 "nbformat": 4,
 "nbformat_minor": 5
}
