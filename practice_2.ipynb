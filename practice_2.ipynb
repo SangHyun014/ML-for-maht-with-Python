{
 "cells": [
  {
   "cell_type": "markdown",
   "id": "562b8fab",
   "metadata": {},
   "source": [
    "# 머신러닝을 위한 선형대수"
   ]
  },
  {
   "cell_type": "markdown",
   "id": "fd05cf84",
   "metadata": {},
   "source": [
    "주성분 분석"
   ]
  },
  {
   "cell_type": "code",
   "execution_count": 1,
   "id": "13e2a2b7",
   "metadata": {},
   "outputs": [],
   "source": [
    "from sklearn.decomposition import PCA\n",
    "import numpy as np"
   ]
  },
  {
   "cell_type": "code",
   "execution_count": 2,
   "id": "fb6abe53",
   "metadata": {},
   "outputs": [],
   "source": [
    "M = np.array([[-1, -1, -1],\n",
    "              [-2, -1, 2],\n",
    "              [-3, -2, 0],\n",
    "              [1, 1, 2],\n",
    "              [2, 1, 1],\n",
    "              [3, 2, 4],\n",
    "              [2, 0, 3],\n",
    "              [3, 5, 1],\n",
    "              [4, 2, 3],\n",
    "              [3, 3, 2]])"
   ]
  },
  {
   "cell_type": "code",
   "execution_count": 3,
   "id": "1929ad11",
   "metadata": {},
   "outputs": [],
   "source": [
    "pca = PCA(n_components=2)"
   ]
  },
  {
   "cell_type": "code",
   "execution_count": 27,
   "id": "b73e742c",
   "metadata": {},
   "outputs": [
    {
     "data": {
      "text/html": [
       "<style>#sk-container-id-2 {color: black;background-color: white;}#sk-container-id-2 pre{padding: 0;}#sk-container-id-2 div.sk-toggleable {background-color: white;}#sk-container-id-2 label.sk-toggleable__label {cursor: pointer;display: block;width: 100%;margin-bottom: 0;padding: 0.3em;box-sizing: border-box;text-align: center;}#sk-container-id-2 label.sk-toggleable__label-arrow:before {content: \"▸\";float: left;margin-right: 0.25em;color: #696969;}#sk-container-id-2 label.sk-toggleable__label-arrow:hover:before {color: black;}#sk-container-id-2 div.sk-estimator:hover label.sk-toggleable__label-arrow:before {color: black;}#sk-container-id-2 div.sk-toggleable__content {max-height: 0;max-width: 0;overflow: hidden;text-align: left;background-color: #f0f8ff;}#sk-container-id-2 div.sk-toggleable__content pre {margin: 0.2em;color: black;border-radius: 0.25em;background-color: #f0f8ff;}#sk-container-id-2 input.sk-toggleable__control:checked~div.sk-toggleable__content {max-height: 200px;max-width: 100%;overflow: auto;}#sk-container-id-2 input.sk-toggleable__control:checked~label.sk-toggleable__label-arrow:before {content: \"▾\";}#sk-container-id-2 div.sk-estimator input.sk-toggleable__control:checked~label.sk-toggleable__label {background-color: #d4ebff;}#sk-container-id-2 div.sk-label input.sk-toggleable__control:checked~label.sk-toggleable__label {background-color: #d4ebff;}#sk-container-id-2 input.sk-hidden--visually {border: 0;clip: rect(1px 1px 1px 1px);clip: rect(1px, 1px, 1px, 1px);height: 1px;margin: -1px;overflow: hidden;padding: 0;position: absolute;width: 1px;}#sk-container-id-2 div.sk-estimator {font-family: monospace;background-color: #f0f8ff;border: 1px dotted black;border-radius: 0.25em;box-sizing: border-box;margin-bottom: 0.5em;}#sk-container-id-2 div.sk-estimator:hover {background-color: #d4ebff;}#sk-container-id-2 div.sk-parallel-item::after {content: \"\";width: 100%;border-bottom: 1px solid gray;flex-grow: 1;}#sk-container-id-2 div.sk-label:hover label.sk-toggleable__label {background-color: #d4ebff;}#sk-container-id-2 div.sk-serial::before {content: \"\";position: absolute;border-left: 1px solid gray;box-sizing: border-box;top: 0;bottom: 0;left: 50%;z-index: 0;}#sk-container-id-2 div.sk-serial {display: flex;flex-direction: column;align-items: center;background-color: white;padding-right: 0.2em;padding-left: 0.2em;position: relative;}#sk-container-id-2 div.sk-item {position: relative;z-index: 1;}#sk-container-id-2 div.sk-parallel {display: flex;align-items: stretch;justify-content: center;background-color: white;position: relative;}#sk-container-id-2 div.sk-item::before, #sk-container-id-2 div.sk-parallel-item::before {content: \"\";position: absolute;border-left: 1px solid gray;box-sizing: border-box;top: 0;bottom: 0;left: 50%;z-index: -1;}#sk-container-id-2 div.sk-parallel-item {display: flex;flex-direction: column;z-index: 1;position: relative;background-color: white;}#sk-container-id-2 div.sk-parallel-item:first-child::after {align-self: flex-end;width: 50%;}#sk-container-id-2 div.sk-parallel-item:last-child::after {align-self: flex-start;width: 50%;}#sk-container-id-2 div.sk-parallel-item:only-child::after {width: 0;}#sk-container-id-2 div.sk-dashed-wrapped {border: 1px dashed gray;margin: 0 0.4em 0.5em 0.4em;box-sizing: border-box;padding-bottom: 0.4em;background-color: white;}#sk-container-id-2 div.sk-label label {font-family: monospace;font-weight: bold;display: inline-block;line-height: 1.2em;}#sk-container-id-2 div.sk-label-container {text-align: center;}#sk-container-id-2 div.sk-container {/* jupyter's `normalize.less` sets `[hidden] { display: none; }` but bootstrap.min.css set `[hidden] { display: none !important; }` so we also need the `!important` here to be able to override the default hidden behavior on the sphinx rendered scikit-learn.org. See: https://github.com/scikit-learn/scikit-learn/issues/21755 */display: inline-block !important;position: relative;}#sk-container-id-2 div.sk-text-repr-fallback {display: none;}</style><div id=\"sk-container-id-2\" class=\"sk-top-container\"><div class=\"sk-text-repr-fallback\"><pre>PCA(n_components=2)</pre><b>In a Jupyter environment, please rerun this cell to show the HTML representation or trust the notebook. <br />On GitHub, the HTML representation is unable to render, please try loading this page with nbviewer.org.</b></div><div class=\"sk-container\" hidden><div class=\"sk-item\"><div class=\"sk-estimator sk-toggleable\"><input class=\"sk-toggleable__control sk-hidden--visually\" id=\"sk-estimator-id-2\" type=\"checkbox\" checked><label for=\"sk-estimator-id-2\" class=\"sk-toggleable__label sk-toggleable__label-arrow\">PCA</label><div class=\"sk-toggleable__content\"><pre>PCA(n_components=2)</pre></div></div></div></div></div>"
      ],
      "text/plain": [
       "PCA(n_components=2)"
      ]
     },
     "execution_count": 27,
     "metadata": {},
     "output_type": "execute_result"
    }
   ],
   "source": [
    "#주성분 분석\n",
    "pca.fit(M)\n",
    "PCA(copy=True,\n",
    "    iterated_power='auto',\n",
    "    n_components=2,\n",
    "    random_state=None,\n",
    "    svd_solver='auto',\n",
    "    tol=0.0,\n",
    "    whiten=False)"
   ]
  },
  {
   "cell_type": "code",
   "execution_count": 5,
   "id": "7cdfaee1",
   "metadata": {},
   "outputs": [
    {
     "data": {
      "text/plain": [
       "array([[-1.63789386,  0.38309423, -0.41296792],\n",
       "       [-1.50265209, -1.67967793,  1.98008049],\n",
       "       [-3.43143719, -0.83088857,  0.73134327],\n",
       "       [ 1.9287851 , -0.84878936,  1.24873722],\n",
       "       [ 2.3753258 ,  0.28259255,  0.52722744],\n",
       "       [ 4.59500215, -1.03189193,  2.61173397],\n",
       "       [ 2.3475376 , -0.06571181,  2.73582697],\n",
       "       [ 5.55104049, -1.38406422, -1.5067567 ],\n",
       "       [ 5.04154285,  0.09948998,  1.89022418],\n",
       "       [ 4.62279035, -0.68358757,  0.40313444]])"
      ]
     },
     "execution_count": 5,
     "metadata": {},
     "output_type": "execute_result"
    }
   ],
   "source": [
    "PC = pca.transform(M)\n",
    "w, V = np.linalg.eig(pca.get_covariance())\n",
    "#w = 고윳값, V = 고유 벡터\n",
    "V.T.dot(M.T).T"
   ]
  },
  {
   "cell_type": "markdown",
   "id": "f2cfa6e5",
   "metadata": {},
   "source": [
    "numpy, scipy를 이용한 선형대수 연산"
   ]
  },
  {
   "cell_type": "code",
   "execution_count": 6,
   "id": "88690a2e",
   "metadata": {},
   "outputs": [],
   "source": [
    "#library\n",
    "import numpy as np\n",
    "from scipy import linalg, sparse"
   ]
  },
  {
   "cell_type": "code",
   "execution_count": 7,
   "id": "7ffcd70c",
   "metadata": {},
   "outputs": [],
   "source": [
    "#행렬 생성\n",
    "A = np.matrix(np.random.random((2,2)))\n",
    "b = np.random.random((2,2))\n",
    "B = np.asmatrix(b)\n",
    "C = np.mat(np.random.random((10,5)))\n",
    "D = np.mat([[3,4], [5,6]])"
   ]
  },
  {
   "cell_type": "code",
   "execution_count": 8,
   "id": "21217f5d",
   "metadata": {},
   "outputs": [
    {
     "data": {
      "text/plain": [
       "matrix([[-0.86416052,  2.42147514],\n",
       "        [ 4.37026617, -2.38529798]])"
      ]
     },
     "execution_count": 8,
     "metadata": {},
     "output_type": "execute_result"
    }
   ],
   "source": [
    "A.I #A의 역행렬"
   ]
  },
  {
   "cell_type": "code",
   "execution_count": 9,
   "id": "d4c7bd31",
   "metadata": {},
   "outputs": [
    {
     "data": {
      "text/plain": [
       "-0.11735421819958224"
      ]
     },
     "execution_count": 9,
     "metadata": {},
     "output_type": "execute_result"
    }
   ],
   "source": [
    "linalg.det(A)  #A의 행렬식"
   ]
  },
  {
   "cell_type": "code",
   "execution_count": 10,
   "id": "f46f0c83",
   "metadata": {},
   "outputs": [
    {
     "data": {
      "text/plain": [
       "matrix([[0.27992478, 0.51286917],\n",
       "        [0.28417032, 0.10141288]])"
      ]
     },
     "execution_count": 10,
     "metadata": {},
     "output_type": "execute_result"
    }
   ],
   "source": [
    "A.T  #A의 전치행렬"
   ]
  },
  {
   "cell_type": "code",
   "execution_count": 11,
   "id": "7bf7127b",
   "metadata": {},
   "outputs": [
    {
     "data": {
      "text/plain": [
       "matrix([[3.27992478, 4.28417032],\n",
       "        [5.51286917, 6.10141288]])"
      ]
     },
     "execution_count": 11,
     "metadata": {},
     "output_type": "execute_result"
    }
   ],
   "source": [
    "np.add(A, D)  #행렬의 합"
   ]
  },
  {
   "cell_type": "code",
   "execution_count": 12,
   "id": "68ff5b88",
   "metadata": {},
   "outputs": [
    {
     "data": {
      "text/plain": [
       "matrix([[-2.72007522, -3.71582968],\n",
       "        [-4.48713083, -5.89858712]])"
      ]
     },
     "execution_count": 12,
     "metadata": {},
     "output_type": "execute_result"
    }
   ],
   "source": [
    "np.subtract(A, D) #행렬의 차"
   ]
  },
  {
   "cell_type": "code",
   "execution_count": 13,
   "id": "14d879a6",
   "metadata": {},
   "outputs": [
    {
     "data": {
      "text/plain": [
       "matrix([[0.09330826, 0.07104258],\n",
       "        [0.10257383, 0.01690215]])"
      ]
     },
     "execution_count": 13,
     "metadata": {},
     "output_type": "execute_result"
    }
   ],
   "source": [
    "np.divide(A, D) #행렬 나누기(A/D)"
   ]
  },
  {
   "cell_type": "code",
   "execution_count": 14,
   "id": "0d1b0f0e",
   "metadata": {},
   "outputs": [
    {
     "name": "stdout",
     "output_type": "stream",
     "text": [
      "[[0.369811   0.04362094]\n",
      " [0.59497085 0.06598911]]\n"
     ]
    }
   ],
   "source": [
    "print(D@B)   #D와B 행렬의 곱을 @로 표현"
   ]
  },
  {
   "cell_type": "code",
   "execution_count": 15,
   "id": "7a1ce689",
   "metadata": {},
   "outputs": [
    {
     "name": "stdout",
     "output_type": "stream",
     "text": [
      "[[0.369811   0.04362094]\n",
      " [0.59497085 0.06598911]]\n"
     ]
    }
   ],
   "source": [
    "print(np.dot(D, B)) #행렬곱을 numpy의 dot을 이용"
   ]
  },
  {
   "cell_type": "code",
   "execution_count": 16,
   "id": "1e947836",
   "metadata": {},
   "outputs": [
    {
     "name": "stdout",
     "output_type": "stream",
     "text": [
      "[[0.24152609 0.0044616 ]\n",
      " [0.16035614 0.0604121 ]]\n"
     ]
    }
   ],
   "source": [
    "print(np.multiply(D,B))  #행렬곱이 아닌 대응대는 원소끼리의 곱"
   ]
  },
  {
   "cell_type": "code",
   "execution_count": 17,
   "id": "e5872d2e",
   "metadata": {},
   "outputs": [
    {
     "data": {
      "text/plain": [
       "matrix([[1., 0.],\n",
       "        [0., 1.]])"
      ]
     },
     "execution_count": 17,
     "metadata": {},
     "output_type": "execute_result"
    }
   ],
   "source": [
    "G = np.mat(np.identity(2))  #2x2 항등행렬\n",
    "G"
   ]
  },
  {
   "cell_type": "markdown",
   "id": "99b05812",
   "metadata": {},
   "source": [
    "행렬 A의 고윳값, 고유벡터 구하기"
   ]
  },
  {
   "cell_type": "code",
   "execution_count": 18,
   "id": "d7310746",
   "metadata": {},
   "outputs": [
    {
     "data": {
      "text/plain": [
       "array([ 0.582726  +0.j, -0.20138833+0.j])"
      ]
     },
     "execution_count": 18,
     "metadata": {},
     "output_type": "execute_result"
    }
   ],
   "source": [
    "linalg.eigvals(A)   #행렬 A의 고윳값 확인"
   ]
  },
  {
   "cell_type": "code",
   "execution_count": 19,
   "id": "2250df05",
   "metadata": {},
   "outputs": [],
   "source": [
    "la, v = linalg.eig(A)  #A의 고유벡터"
   ]
  },
  {
   "cell_type": "code",
   "execution_count": 20,
   "id": "062e7d22",
   "metadata": {},
   "outputs": [],
   "source": [
    "l1, l2 = la  #고윳값을 l1, l2로 받기"
   ]
  },
  {
   "cell_type": "code",
   "execution_count": 21,
   "id": "07ed1774",
   "metadata": {},
   "outputs": [
    {
     "data": {
      "text/plain": [
       "array([0.68431808, 0.72918363])"
      ]
     },
     "execution_count": 21,
     "metadata": {},
     "output_type": "execute_result"
    }
   ],
   "source": [
    "v[:,0]"
   ]
  },
  {
   "cell_type": "code",
   "execution_count": 22,
   "id": "0073e3c1",
   "metadata": {},
   "outputs": [
    {
     "data": {
      "text/plain": [
       "array([-0.5084084 ,  0.86111608])"
      ]
     },
     "execution_count": 22,
     "metadata": {},
     "output_type": "execute_result"
    }
   ],
   "source": [
    "v[:,1]"
   ]
  },
  {
   "cell_type": "markdown",
   "id": "debcae8a",
   "metadata": {},
   "source": [
    "희소행렬을 만들고 확인하기"
   ]
  },
  {
   "cell_type": "code",
   "execution_count": 23,
   "id": "f9bc0a74",
   "metadata": {},
   "outputs": [],
   "source": [
    "C[C>0.5] = 0"
   ]
  },
  {
   "cell_type": "code",
   "execution_count": 24,
   "id": "1ad9ace1",
   "metadata": {},
   "outputs": [],
   "source": [
    "H = sparse.csr_matrix(C)  #C를 희소행렬 형태로 변환"
   ]
  },
  {
   "cell_type": "code",
   "execution_count": 25,
   "id": "59de2137",
   "metadata": {},
   "outputs": [
    {
     "data": {
      "text/plain": [
       "matrix([[0.40636355, 0.31706794, 0.31776481, 0.        , 0.        ],\n",
       "        [0.2895111 , 0.        , 0.4311697 , 0.        , 0.24739058],\n",
       "        [0.        , 0.19329143, 0.07430256, 0.        , 0.        ],\n",
       "        [0.        , 0.        , 0.        , 0.        , 0.        ],\n",
       "        [0.29372767, 0.10411082, 0.39486946, 0.05539544, 0.        ],\n",
       "        [0.296602  , 0.32818254, 0.46938987, 0.        , 0.        ],\n",
       "        [0.19772447, 0.17779889, 0.        , 0.04458751, 0.19444042],\n",
       "        [0.        , 0.43778451, 0.15443097, 0.25656828, 0.34914688],\n",
       "        [0.        , 0.        , 0.        , 0.191792  , 0.        ],\n",
       "        [0.        , 0.        , 0.        , 0.        , 0.01308584]])"
      ]
     },
     "execution_count": 25,
     "metadata": {},
     "output_type": "execute_result"
    }
   ],
   "source": [
    "H.todense()   #H를 일반적인 행렬로 변환"
   ]
  },
  {
   "cell_type": "code",
   "execution_count": 26,
   "id": "82c0cbd3",
   "metadata": {},
   "outputs": [
    {
     "data": {
      "text/plain": [
       "True"
      ]
     },
     "execution_count": 26,
     "metadata": {},
     "output_type": "execute_result"
    }
   ],
   "source": [
    "sparse.isspmatrix_csr(H)"
   ]
  },
  {
   "cell_type": "code",
   "execution_count": null,
   "id": "e55b561b",
   "metadata": {},
   "outputs": [],
   "source": []
  }
 ],
 "metadata": {
  "kernelspec": {
   "display_name": "[kaggle]",
   "language": "python",
   "name": "kaggle"
  },
  "language_info": {
   "codemirror_mode": {
    "name": "ipython",
    "version": 3
   },
   "file_extension": ".py",
   "mimetype": "text/x-python",
   "name": "python",
   "nbconvert_exporter": "python",
   "pygments_lexer": "ipython3",
   "version": "3.10.9"
  }
 },
 "nbformat": 4,
 "nbformat_minor": 5
}
